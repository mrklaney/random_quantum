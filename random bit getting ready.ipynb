{
 "cells": [
  {
   "cell_type": "markdown",
   "metadata": {},
   "source": [
    "@mrklaney \n",
    "oreilly-qc\n",
    "/\n",
    "oreilly-qc.github.io\n",
    "14\n",
    "3813\n",
    " Code Issues 3 Pull requests 1 Actions Projects 0 Wiki Security Insights\n",
    "oreilly-qc.github.io/samples/Qiskit/ch02_01_random_bit.py\n",
    "@machinelevel machinelevel [minor] The matplotlib line doesn't work with a trailing comment. Fixed!\n",
    "971bad8 on Jul 28, 2019\n",
    "33 lines (26 sloc)  1.01 KB"
   ]
  },
  {
   "cell_type": "markdown",
   "metadata": {},
   "source": [
    "samples/Qiskit/ch02_01_random_bit.py\n",
    "https://github.com/oreilly-qc/oreilly-qc.github.io/blob/master/samples/Qiskit/ch02_01_random_bit.py"
   ]
  },
  {
   "cell_type": "code",
   "execution_count": null,
   "metadata": {},
   "outputs": [],
   "source": [
    "## Programming Quantum Computers\n",
    "##   by Eric Johnston, Nic Harrigan and Mercedes Gimeno-Segovia\n",
    "##   O'Reilly Media\n",
    "##\n",
    "## More samples like this can be found at http://oreilly-qc.github.io\n",
    "\n",
    "## This sample generates a single random bit.\n",
    "\n",
    "from qiskit import QuantumCircuit, QuantumRegister, ClassicalRegister, execute, Aer, IBMQ, BasicAer\n",
    "import math\n",
    "## Uncomment the next line to see diagrams when running in a notebook\n",
    "%matplotlib inline\n",
    "\n",
    "## Example 2-1: Random bit\n",
    "# Set up the program\n",
    "reg = QuantumRegister(1, name='reg')\n",
    "reg_c = ClassicalRegister(1, name='regc')\n",
    "qc = QuantumCircuit(reg, reg_c)\n",
    "\n",
    "qc.reset(reg)          # write the value 0\n",
    "qc.h(reg)              # put it into a superposition of 0 and 1\n",
    "qc.measure(reg, reg_c) # read the result as a digital bit\n",
    "\n",
    "backend = BasicAer.get_backend('statevector_simulator')\n",
    "job = execute(qc, backend)\n",
    "result = job.result()\n",
    "\n",
    "counts = result.get_counts(qc)\n",
    "print('counts:',counts)\n",
    "\n",
    "outputstate = result.get_statevector(qc, decimals=3)\n",
    "print(outputstate)\n",
    "qc.draw()        # draw the circuit\n"
   ]
  },
  {
   "cell_type": "code",
   "execution_count": null,
   "metadata": {},
   "outputs": [],
   "source": [
    "def qiskit_random_initial(bits, simulate):\n",
    "        \"\"\"Takes two arguments:\n",
    "        1. The number of bits (an int) \n",
    "        2. \"T\" to simulate, \"Q\" to run on a real quantum computer\n",
    "        for example:  qiskit_random(1,\"T\")\"\"\"\n",
    "        from qiskit import QuantumCircuit, QuantumRegister, ClassicalRegister, execute, Aer, IBMQ, BasicAer\n",
    "        import math\n",
    "        reg = QuantumRegister(bits, name='reg')\n",
    "        reg_c = ClassicalRegister(bits, name='regc')\n",
    "        qc = QuantumCircuit(reg, reg_c)\n",
    "        qc.reset(reg)\n",
    "        qc.h(reg)\n",
    "        qc.measure(reg, reg_c)\n",
    "        if simulate == \"T\":\n",
    "            backend = BasicAer.get_backend('qasm_simulator')#'statevector_simulator')\n",
    "            job = execute(qc, backend)\n",
    "            result = job.result().get_counts()  #returns the random # in binary  \n",
    "            binary_answer_mess = str(result).replace('{\\'','') #remove some string mess\n",
    "            binary_answer = binary_answer_mess[:bits] #remove rest of string mess\n",
    "            return binary_answer\n",
    "        else:\n",
    "            print(\"Working on it.\")\n",
    "        "
   ]
  },
  {
   "cell_type": "code",
   "execution_count": null,
   "metadata": {},
   "outputs": [],
   "source": [
    "help(qiskit_random_initial)"
   ]
  },
  {
   "cell_type": "code",
   "execution_count": null,
   "metadata": {},
   "outputs": [],
   "source": [
    "qiskit_random_initial(1,\"T\")"
   ]
  },
  {
   "cell_type": "code",
   "execution_count": null,
   "metadata": {},
   "outputs": [],
   "source": [
    "from qiskit.tools.visualization import plot_histogram"
   ]
  },
  {
   "cell_type": "code",
   "execution_count": null,
   "metadata": {},
   "outputs": [],
   "source": [
    "#if our code was inline could plot it like this\n",
    "#plot_histogram(result.get_counts(qc))"
   ]
  },
  {
   "cell_type": "code",
   "execution_count": null,
   "metadata": {},
   "outputs": [],
   "source": [
    "#sign into real qc\n",
    "a8112fef248a1062a02d56d421437abf3c2bb85091299838b15a50cdbb2079dda9e15c669a9465d329543de3548c69af54c303fe2cd540df433a7e2490ffcee4"
   ]
  },
  {
   "cell_type": "code",
   "execution_count": null,
   "metadata": {},
   "outputs": [],
   "source": [
    "from qiskit import IBMQ"
   ]
  },
  {
   "cell_type": "code",
   "execution_count": null,
   "metadata": {},
   "outputs": [],
   "source": [
    "IBMQ.save_account('a8112fef248a1062a02d56d421437abf3c2bb85091299838b15a50cdbb2079dda9e15c669a9465d329543de3548c69af54c303fe2cd540df433a7e2490ffcee4')"
   ]
  },
  {
   "cell_type": "code",
   "execution_count": null,
   "metadata": {},
   "outputs": [],
   "source": [
    "IBMQ.load_account()"
   ]
  },
  {
   "cell_type": "code",
   "execution_count": 17,
   "metadata": {},
   "outputs": [],
   "source": [
    "def qiskit_random_(bits, whereRun):\n",
    "        \"\"\"Takes two arguments: 1. The number of bits (an int)  2. \"S\" to simulate, \"Q\" to run on a real quantum computer\n",
    "        for example:  qiskit_random(1,\"S\")\"\"\"\n",
    "        from qiskit import QuantumCircuit, QuantumRegister, ClassicalRegister, execute, Aer, IBMQ, BasicAer\n",
    "        import math\n",
    "        simul = whereRun.upper()\n",
    "        #print(simul)\n",
    "        reg = QuantumRegister(bits, name='reg')\n",
    "        reg_c = ClassicalRegister(bits, name='regc')\n",
    "        qc = QuantumCircuit(reg, reg_c)\n",
    "        qc.reset(reg)\n",
    "        qc.h(reg)\n",
    "        qc.measure(reg, reg_c)\n",
    "        if (simul == \"S\"):\n",
    "            sim = BasicAer.get_backend('statevector_simulator')\n",
    "            job = execute(qc, backend=sim)\n",
    "            result = job.result().get_counts()  #returns the random # in binary  \n",
    "            binary_answer_mess = str(result).replace('{\\'','') #remove some string mess\n",
    "            binary_answer = binary_answer_mess[:bits] #remove rest of string mess\n",
    "            decimal=int(binary_answer,2)\n",
    "            return decimal\n",
    "        elif (simul == \"Q\"):\n",
    "            from qiskit import IBMQ\n",
    "            from qiskit.tools.monitor import job_monitor\n",
    "            #with open(\\\"/Users/marklaney/Desktop/ibm_quantum_api_token.txt\\\") as f:\n",
    "            with open(\"/Users/marklaney/Desktop/ibm_quantum_api_token.txt\") as f:\n",
    "                      IBMQ.save_account('f.read()')\n",
    "            #IBMQ.save_account('a8112fef248a1062a02d56d421437abf3c2bb85091299838b15a50cdbb2079dda9e15c669a9465d329543de3548c69af54c303fe2cd540df433a7e2490ffcee4')\n",
    "            IBMQ.load_account()\n",
    "            provider = IBMQ.get_provider('ibm-q')\n",
    "            #qcomp = provider.get_backend('ibmq_16_melbourne')\n",
    "            qcomp = least_busy(provider.backends(simulator=False))\n",
    "            job = execute(qc, backend=qcomp)\n",
    "            print(job_monitor(job))\n",
    "            result = job.result().get_counts()  #returns the random number in binary  \n",
    "            binary_answer_mess = str(result).replace('{\\'','') #remove some string mess\n",
    "            binary_answer = binary_answer_mess[:bits] #remove rest of string mess\n",
    "            decimal=int(binary_answer,2)\n",
    "            return decimal\n",
    "        else:\n",
    "            print(\"That is not a valid option. Choose \\\"S\\\" to simulate or \\\"Q\\\" for quantum computer.\")"
   ]
  },
  {
   "cell_type": "code",
   "execution_count": 11,
   "metadata": {},
   "outputs": [
    {
     "name": "stderr",
     "output_type": "stream",
     "text": [
      "configrc.store_credentials:WARNING:2020-08-08 16:31:30,438: Credentials already present. Set overwrite=True to overwrite.\n",
      "ibmqfactory.load_account:WARNING:2020-08-08 16:31:30,631: Credentials are already in use. The existing account in the session will be replaced.\n"
     ]
    },
    {
     "name": "stdout",
     "output_type": "stream",
     "text": [
      "Job Status: job has successfully run\n",
      "None\n"
     ]
    },
    {
     "data": {
      "text/plain": [
       "18430"
      ]
     },
     "execution_count": 11,
     "metadata": {},
     "output_type": "execute_result"
    }
   ],
   "source": [
    "qiskit_random_(15, \"q\")"
   ]
  },
  {
   "cell_type": "code",
   "execution_count": 18,
   "metadata": {},
   "outputs": [
    {
     "name": "stdout",
     "output_type": "stream",
     "text": [
      "Help on function qiskit_random_ in module __main__:\n",
      "\n",
      "qiskit_random_(bits, whereRun)\n",
      "    Takes two arguments: 1. The number of bits (an int)  2. \"S\" to simulate, \"Q\" to run on a real quantum computer\n",
      "    for example:  qiskit_random(1,\"S\")\n",
      "\n"
     ]
    }
   ],
   "source": [
    "help(qiskit_random_)"
   ]
  },
  {
   "cell_type": "code",
   "execution_count": 9,
   "metadata": {},
   "outputs": [
    {
     "name": "stdout",
     "output_type": "stream",
     "text": [
      "/Users/marklaney/Desktop/quantum/qiskit_stuff/put Code on github\r\n"
     ]
    }
   ],
   "source": [
    "!pwd"
   ]
  },
  {
   "cell_type": "code",
   "execution_count": 20,
   "metadata": {},
   "outputs": [
    {
     "name": "stderr",
     "output_type": "stream",
     "text": [
      "configrc.store_credentials:WARNING:2020-08-08 16:43:25,988: Credentials already present. Set overwrite=True to overwrite.\n",
      "ibmqfactory.load_account:WARNING:2020-08-08 16:43:26,241: Credentials are already in use. The existing account in the session will be replaced.\n"
     ]
    },
    {
     "ename": "NameError",
     "evalue": "name 'least_busy' is not defined",
     "output_type": "error",
     "traceback": [
      "\u001b[0;31m---------------------------------------------------------------------------\u001b[0m",
      "\u001b[0;31mNameError\u001b[0m                                 Traceback (most recent call last)",
      "\u001b[0;32m<ipython-input-20-17428d7a27d0>\u001b[0m in \u001b[0;36m<module>\u001b[0;34m\u001b[0m\n\u001b[0;32m----> 1\u001b[0;31m \u001b[0mqiskit_random_\u001b[0m\u001b[0;34m(\u001b[0m\u001b[0;36m1\u001b[0m\u001b[0;34m,\u001b[0m\u001b[0;34m\"Q\"\u001b[0m\u001b[0;34m)\u001b[0m\u001b[0;34m\u001b[0m\u001b[0;34m\u001b[0m\u001b[0m\n\u001b[0m",
      "\u001b[0;32m<ipython-input-17-daf766cf1fd4>\u001b[0m in \u001b[0;36mqiskit_random_\u001b[0;34m(bits, whereRun)\u001b[0m\n\u001b[1;32m     30\u001b[0m             \u001b[0mprovider\u001b[0m \u001b[0;34m=\u001b[0m \u001b[0mIBMQ\u001b[0m\u001b[0;34m.\u001b[0m\u001b[0mget_provider\u001b[0m\u001b[0;34m(\u001b[0m\u001b[0;34m'ibm-q'\u001b[0m\u001b[0;34m)\u001b[0m\u001b[0;34m\u001b[0m\u001b[0;34m\u001b[0m\u001b[0m\n\u001b[1;32m     31\u001b[0m             \u001b[0;31m#qcomp = provider.get_backend('ibmq_16_melbourne')\u001b[0m\u001b[0;34m\u001b[0m\u001b[0;34m\u001b[0m\u001b[0;34m\u001b[0m\u001b[0m\n\u001b[0;32m---> 32\u001b[0;31m             \u001b[0mqcomp\u001b[0m \u001b[0;34m=\u001b[0m \u001b[0mleast_busy\u001b[0m\u001b[0;34m(\u001b[0m\u001b[0mprovider\u001b[0m\u001b[0;34m.\u001b[0m\u001b[0mbackends\u001b[0m\u001b[0;34m(\u001b[0m\u001b[0msimulator\u001b[0m\u001b[0;34m=\u001b[0m\u001b[0;32mFalse\u001b[0m\u001b[0;34m)\u001b[0m\u001b[0;34m)\u001b[0m\u001b[0;34m\u001b[0m\u001b[0;34m\u001b[0m\u001b[0m\n\u001b[0m\u001b[1;32m     33\u001b[0m             \u001b[0mjob\u001b[0m \u001b[0;34m=\u001b[0m \u001b[0mexecute\u001b[0m\u001b[0;34m(\u001b[0m\u001b[0mqc\u001b[0m\u001b[0;34m,\u001b[0m \u001b[0mbackend\u001b[0m\u001b[0;34m=\u001b[0m\u001b[0mqcomp\u001b[0m\u001b[0;34m)\u001b[0m\u001b[0;34m\u001b[0m\u001b[0;34m\u001b[0m\u001b[0m\n\u001b[1;32m     34\u001b[0m             \u001b[0mprint\u001b[0m\u001b[0;34m(\u001b[0m\u001b[0mjob_monitor\u001b[0m\u001b[0;34m(\u001b[0m\u001b[0mjob\u001b[0m\u001b[0;34m)\u001b[0m\u001b[0;34m)\u001b[0m\u001b[0;34m\u001b[0m\u001b[0;34m\u001b[0m\u001b[0m\n",
      "\u001b[0;31mNameError\u001b[0m: name 'least_busy' is not defined"
     ]
    }
   ],
   "source": [
    "qiskit_random_(1,\"Q\")"
   ]
  }
 ],
 "metadata": {
  "kernelspec": {
   "display_name": "Python 3",
   "language": "python",
   "name": "python3"
  },
  "language_info": {
   "codemirror_mode": {
    "name": "ipython",
    "version": 3
   },
   "file_extension": ".py",
   "mimetype": "text/x-python",
   "name": "python",
   "nbconvert_exporter": "python",
   "pygments_lexer": "ipython3",
   "version": "3.8.5"
  }
 },
 "nbformat": 4,
 "nbformat_minor": 4
}
