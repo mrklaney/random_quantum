{
 "cells": [
  {
   "cell_type": "markdown",
   "metadata": {},
   "source": [
    "In order to run on IBM quantum computers you have to create an account and get a token here:\n",
    "http://quantum-computing.ibm.com"
   ]
  },
  {
   "cell_type": "markdown",
   "metadata": {},
   "source": [
    "Click on your account and copy the API Token. Write that into a file called \"ibm_quantum_api_token.txt\" and put it on your Desktop."
   ]
  },
  {
   "cell_type": "code",
   "execution_count": 1,
   "metadata": {},
   "outputs": [],
   "source": [
    "def qiskit_random(bits=3, whereRun=\"S\"):\n",
    "        \"\"\"Takes two arguments:   1. The number of bits (an int) 2. \"S\" to simulate, \"Q\" to run on a real quantum computer\n",
    "        for example:  qiskit_random(1,\"T\").   bit max:  24 with S, 5 with Q \"\"\"\n",
    "        from qiskit import QuantumCircuit, QuantumRegister, ClassicalRegister, execute, Aer, IBMQ, BasicAer\n",
    "        from qiskit.providers.ibmq import least_busy\n",
    "        import math\n",
    "        simul = whereRun.upper()\n",
    "        reg = QuantumRegister(bits, name='reg')\n",
    "        reg_c = ClassicalRegister(bits, name='regc')\n",
    "        qc = QuantumCircuit(reg, reg_c)\n",
    "        qc.reset(reg)\n",
    "        qc.h(reg)\n",
    "        qc.measure(reg, reg_c)\n",
    "        if (simul == \"S\"):\n",
    "            sim = BasicAer.get_backend('statevector_simulator')\n",
    "            job = execute(qc, backend=sim)\n",
    "            result = job.result().get_counts()  #returns the random # in binary  \n",
    "            binary_answer_mess = str(result).replace('{\\'','') #remove some string mess\n",
    "            binary_answer = binary_answer_mess[:bits] #remove rest of string mess\n",
    "            decimal=int(binary_answer,2)\n",
    "            return decimal\n",
    "        elif (simul == \"Q\"):\n",
    "            from qiskit import IBMQ\n",
    "            from qiskit.tools.monitor import job_monitor\n",
    "            with open(\"/Users/marklaney/Desktop/ibm_quantum_api_token.txt\") as f:\n",
    "                      IBMQ.save_account('f.read()')\n",
    "            IBMQ.load_account()\n",
    "            provider = IBMQ.get_provider('ibm-q')\n",
    "            qcomp = least_busy(provider.backends(simulator=False))\n",
    "            job = execute(qc, backend=qcomp)\n",
    "            print(job_monitor(job))\n",
    "            result = job.result().get_counts()  #returns the random number in binary  \n",
    "            binary_answer_mess = str(result).replace('{\\'','') #remove some string mess\n",
    "            binary_answer = binary_answer_mess[:bits] #remove rest of string mess\n",
    "            decimal=int(binary_answer,2)\n",
    "            return decimal\n",
    "        else:\n",
    "            print(\"That's not a valid option. Choose \\\"S\\\" to simulate or \\\"Q\\\" for quantum computer.\")"
   ]
  },
  {
   "cell_type": "code",
   "execution_count": 2,
   "metadata": {},
   "outputs": [
    {
     "name": "stdout",
     "output_type": "stream",
     "text": [
      "Help on function qiskit_random in module __main__:\n",
      "\n",
      "qiskit_random(bits=3, whereRun='S')\n",
      "    Takes two arguments:   1. The number of bits (an int) 2. \"S\" to simulate, \"Q\" to run on a real quantum computer\n",
      "    for example:  qiskit_random(1,\"T\").   bit max:  24 with S, 5 with Q\n",
      "\n"
     ]
    }
   ],
   "source": [
    "help(qiskit_random)"
   ]
  },
  {
   "cell_type": "code",
   "execution_count": 7,
   "metadata": {},
   "outputs": [
    {
     "data": {
      "text/plain": [
       "7"
      ]
     },
     "execution_count": 7,
     "metadata": {},
     "output_type": "execute_result"
    }
   ],
   "source": [
    "qiskit_random(4)"
   ]
  },
  {
   "cell_type": "code",
   "execution_count": null,
   "metadata": {},
   "outputs": [],
   "source": []
  }
 ],
 "metadata": {
  "kernelspec": {
   "display_name": "Python 3",
   "language": "python",
   "name": "python3"
  },
  "language_info": {
   "codemirror_mode": {
    "name": "ipython",
    "version": 3
   },
   "file_extension": ".py",
   "mimetype": "text/x-python",
   "name": "python",
   "nbconvert_exporter": "python",
   "pygments_lexer": "ipython3",
   "version": "3.8.5"
  }
 },
 "nbformat": 4,
 "nbformat_minor": 4
}
