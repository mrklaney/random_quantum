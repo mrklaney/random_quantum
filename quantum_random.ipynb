{
 "cells": [
  {
   "cell_type": "markdown",
   "metadata": {},
   "source": [
    "In order to run on IBM quantum computers you have to create an account and get a token here:\n",
    "http://quantum-computing.ibm.com"
   ]
  },
  {
   "cell_type": "markdown",
   "metadata": {},
   "source": [
    "Click on your account and copy the API Token. see README"
   ]
  },
  {
   "cell_type": "code",
   "execution_count": 1,
   "metadata": {},
   "outputs": [],
   "source": [
    "def qiskit_random(bits=3, whereRun=\"S\",path=\"./token.txt\"):\n",
    "        \"\"\"Takes three arguments:   1. The number of bits (an int) \n",
    "        2. \"S\" to simulate, \"Q\" to run on a real quantum computer\n",
    "        3. path to file with your Qiskit token. By default in the folder with this notebook.\n",
    "        for example:  qiskit_random(1,\"S\").   bit max:  24 with S, 5 with Q \"\"\"\n",
    "        from qiskit import QuantumCircuit, QuantumRegister, ClassicalRegister, execute, Aer, IBMQ, BasicAer\n",
    "        from qiskit.providers.ibmq import least_busy\n",
    "        import math\n",
    "        simul = whereRun.upper()\n",
    "        reg = QuantumRegister(bits, name='reg')\n",
    "        reg_c = ClassicalRegister(bits, name='regc')\n",
    "        qc = QuantumCircuit(reg, reg_c)\n",
    "        qc.reset(reg)\n",
    "        qc.h(reg)\n",
    "        qc.measure(reg, reg_c)\n",
    "        if (simul == \"S\"):\n",
    "            sim = BasicAer.get_backend('statevector_simulator')\n",
    "            job = execute(qc, backend=sim)\n",
    "            result = job.result().get_counts()  #returns the random # in binary  \n",
    "            binary_answer_mess = str(result).replace('{\\'','') #remove some string mess\n",
    "            binary_answer = binary_answer_mess[:bits] #remove rest of string mess\n",
    "            decimal=int(binary_answer,2)\n",
    "            return decimal\n",
    "        elif (simul == \"Q\"):\n",
    "            from qiskit import IBMQ\n",
    "            from qiskit.tools.monitor import job_monitor\n",
    "            IBMQ.delete_account()\n",
    "            with open(path) as f:\n",
    "                IBMQ.save_account(f.read(), overwrite=True)\n",
    "                IBMQ.load_account()\n",
    "            provider = IBMQ.get_provider('ibm-q')\n",
    "            qcomp = least_busy(provider.backends(simulator=False))\n",
    "            job = execute(qc, backend=qcomp)\n",
    "            print(job_monitor(job))\n",
    "            result = job.result().get_counts()  #returns the random number in binary  \n",
    "            binary_answer_mess = str(result).replace('{\\'','') #remove some string mess\n",
    "            binary_answer = binary_answer_mess[:bits] #remove rest of string mess\n",
    "            decimal=int(binary_answer,2)\n",
    "            return decimal\n",
    "        else:\n",
    "            print(\"That's not a valid option. Choose \\\"S\\\" to simulate or \\\"Q\\\" for quantum computer.\")"
   ]
  },
  {
   "cell_type": "code",
   "execution_count": 2,
   "metadata": {},
   "outputs": [
    {
     "name": "stdout",
     "output_type": "stream",
     "text": [
      "Help on function qiskit_random in module __main__:\n",
      "\n",
      "qiskit_random(bits=3, whereRun='S', path='./token.txt')\n",
      "    Takes three arguments:   1. The number of bits (an int) \n",
      "    2. \"S\" to simulate, \"Q\" to run on a real quantum computer\n",
      "    3. path to file with your Qiskit token. By default in the folder with this notebook.\n",
      "    for example:  qiskit_random(1,\"S\").   bit max:  24 with S, 5 with Q\n",
      "\n"
     ]
    }
   ],
   "source": [
    "help(qiskit_random)"
   ]
  },
  {
   "cell_type": "code",
   "execution_count": 4,
   "metadata": {},
   "outputs": [
    {
     "data": {
      "text/plain": [
       "0"
      ]
     },
     "execution_count": 4,
     "metadata": {},
     "output_type": "execute_result"
    }
   ],
   "source": [
    "qiskit_random(1,\"S\")"
   ]
  },
  {
   "cell_type": "code",
   "execution_count": 3,
   "metadata": {
    "scrolled": true
   },
   "outputs": [
    {
     "data": {
      "text/plain": [
       "12"
      ]
     },
     "execution_count": 3,
     "metadata": {},
     "output_type": "execute_result"
    }
   ],
   "source": [
    "qiskit_random(4)"
   ]
  },
  {
   "cell_type": "code",
   "execution_count": 5,
   "metadata": {},
   "outputs": [
    {
     "data": {
      "text/plain": [
       "2"
      ]
     },
     "execution_count": 5,
     "metadata": {},
     "output_type": "execute_result"
    }
   ],
   "source": [
    "qiskit_random(3,\"S\")"
   ]
  },
  {
   "cell_type": "markdown",
   "metadata": {},
   "source": [
    "I put token.txt both in the folder with this code...."
   ]
  },
  {
   "cell_type": "code",
   "execution_count": 6,
   "metadata": {},
   "outputs": [
    {
     "name": "stderr",
     "output_type": "stream",
     "text": [
      "configrc.store_credentials:WARNING:2020-09-24 06:35:03,866: Credentials already present. Set overwrite=True to overwrite.\n"
     ]
    },
    {
     "name": "stdout",
     "output_type": "stream",
     "text": [
      "Job Status: job has successfully run\n",
      "None\n"
     ]
    },
    {
     "data": {
      "text/plain": [
       "17"
      ]
     },
     "execution_count": 6,
     "metadata": {},
     "output_type": "execute_result"
    }
   ],
   "source": [
    "qiskit_random(5,\"Q\")"
   ]
  },
  {
   "cell_type": "markdown",
   "metadata": {},
   "source": [
    "...and another copy of token.txt here"
   ]
  },
  {
   "cell_type": "code",
   "execution_count": 9,
   "metadata": {},
   "outputs": [
    {
     "name": "stderr",
     "output_type": "stream",
     "text": [
      "configrc.store_credentials:WARNING:2020-09-24 06:36:24,493: Credentials already present. Set overwrite=True to overwrite.\n",
      "ibmqfactory.load_account:WARNING:2020-09-24 06:36:24,695: Credentials are already in use. The existing account in the session will be replaced.\n"
     ]
    },
    {
     "name": "stdout",
     "output_type": "stream",
     "text": [
      "Job Status: job has successfully run\n",
      "None\n"
     ]
    },
    {
     "data": {
      "text/plain": [
       "17"
      ]
     },
     "execution_count": 9,
     "metadata": {},
     "output_type": "execute_result"
    }
   ],
   "source": [
    "qiskit_random(5,\"Q\",\"/Users/marklaney/Desktop/token.txt\")"
   ]
  }
 ],
 "metadata": {
  "kernelspec": {
   "display_name": "Python 3",
   "language": "python",
   "name": "python3"
  },
  "language_info": {
   "codemirror_mode": {
    "name": "ipython",
    "version": 3
   },
   "file_extension": ".py",
   "mimetype": "text/x-python",
   "name": "python",
   "nbconvert_exporter": "python",
   "pygments_lexer": "ipython3",
   "version": "3.8.5"
  }
 },
 "nbformat": 4,
 "nbformat_minor": 4
}
